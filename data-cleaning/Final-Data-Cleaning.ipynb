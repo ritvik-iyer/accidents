{
 "cells": [
  {
   "cell_type": "code",
   "execution_count": 1,
   "metadata": {},
   "outputs": [],
   "source": [
    "import pandas as pd \n",
    "import numpy as np"
   ]
  },
  {
   "cell_type": "code",
   "execution_count": 2,
   "metadata": {},
   "outputs": [],
   "source": [
    "orig_train = pd.read_csv('train.csv')\n",
    "orig_test = pd.read_csv('test.csv')"
   ]
  },
  {
   "cell_type": "code",
   "execution_count": 3,
   "metadata": {},
   "outputs": [],
   "source": [
    "partial_clean_train = pd.read_csv('stat154_cleaned_ryan.csv')\n",
    "partial_clean_test = pd.read_csv('stat154_updated_test_ryan')"
   ]
  },
  {
   "cell_type": "code",
   "execution_count": 4,
   "metadata": {},
   "outputs": [],
   "source": [
    "orig_train['Start_Time'] = pd.to_datetime(orig_train['Start_Time'])\n",
    "orig_test['Start_Time'] = pd.to_datetime(orig_test['Start_Time'])"
   ]
  },
  {
   "cell_type": "code",
   "execution_count": 5,
   "metadata": {},
   "outputs": [],
   "source": [
    "na_rows_train = np.where(orig_train['Sunrise_Sunset'].isnull())[0]\n",
    "na_rows_test = np.where(orig_test['Sunrise_Sunset'].isnull())[0]"
   ]
  },
  {
   "cell_type": "code",
   "execution_count": 6,
   "metadata": {
    "scrolled": true
   },
   "outputs": [
    {
     "name": "stdout",
     "output_type": "stream",
     "text": [
      "1.0\n",
      "1.0\n"
     ]
    }
   ],
   "source": [
    "def fill_na_sunrise_sunset_train(row_idx, tbl=orig_train):\n",
    "    state = tbl.loc[row_idx, 'State']\n",
    "    month = tbl.loc[row_idx, 'Start_Time'].month\n",
    "    hr = tbl.loc[row_idx, 'Start_Time'].hour\n",
    "    filtered_rows = tbl[(tbl['State'] == state) & \n",
    "                       (tbl['Start_Time'].dt.month == month) &\n",
    "                       (tbl['Start_Time'].dt.hour == hr)]\n",
    "    replace = pd.Series.mode(filtered_rows['Sunrise_Sunset']).iloc[0]\n",
    "    return replace\n",
    "\n",
    "def fill_na_sunrise_sunset_test(row_idx, tbl=orig_test):\n",
    "    state = tbl.loc[row_idx, 'State']\n",
    "    month = tbl.loc[row_idx, 'Start_Time'].month\n",
    "    hr = tbl.loc[row_idx, 'Start_Time'].hour\n",
    "    filtered_rows = tbl[(tbl['State'] == state) & \n",
    "                       (tbl['Start_Time'].dt.month == month) &\n",
    "                       (tbl['Start_Time'].dt.hour == hr)]\n",
    "    replace = pd.Series.mode(filtered_rows['Sunrise_Sunset']).iloc[0]\n",
    "    return replace\n",
    "\n",
    "fill_na_map_train = np.vectorize(fill_na_sunrise_sunset_train)\n",
    "fill_na_map_test = np.vectorize(fill_na_sunrise_sunset_test)\n",
    "\n",
    "result_train = fill_na_map_train(na_rows_train)\n",
    "result_test = fill_na_map_test(na_rows_test)\n",
    "\n",
    "for i in range(len(result_train)):\n",
    "    orig_train.loc[na_rows_train[i], 'Sunrise_Sunset'] = result_train[i]\n",
    "    \n",
    "for j in range(len(result_test)):\n",
    "    orig_test.loc[na_rows_test[j], 'Sunrise_Sunset'] = result_test[j]\n",
    "\n",
    "print(len(orig_train['Sunrise_Sunset'].dropna())/len(orig_train['Sunrise_Sunset']))\n",
    "print(len(orig_test['Sunrise_Sunset'].dropna())/len(orig_test['Sunrise_Sunset']))"
   ]
  },
  {
   "cell_type": "code",
   "execution_count": 7,
   "metadata": {},
   "outputs": [],
   "source": [
    "# Cleaning\n",
    "partial_clean_train['Timestamp'] = pd.to_datetime(partial_clean_train['weather.ymd'])\n",
    "partial_clean_train['Amenity'] = orig_train['Amenity']\n",
    "partial_clean_train['Bump'] = orig_train['Bump']\n",
    "partial_clean_train['Crossing'] = orig_train['Crossing']\n",
    "partial_clean_train['Give_Way'] = orig_train['Give_Way']\n",
    "partial_clean_train['Junction'] = orig_train['Junction']\n",
    "partial_clean_train['No_Exit'] = orig_train['No_Exit']\n",
    "partial_clean_train['Railway'] = orig_train['Railway']\n",
    "partial_clean_train['Roundabout'] = orig_train['Roundabout']\n",
    "partial_clean_train['Station'] = orig_train['Station']\n",
    "partial_clean_train['Stop'] = orig_train['Stop']\n",
    "partial_clean_train['Traffic_Calming'] = orig_train['Traffic_Calming']\n",
    "partial_clean_train['Traffic_Signal'] = orig_train['Traffic_Signal']\n",
    "partial_clean_train['Turning_Loop'] = orig_train['Turning_Loop']\n",
    "partial_clean_train['Sunrise_Sunset'] = orig_train['Sunrise_Sunset']\n",
    "partial_clean_train['Source'] = orig_train['Source']\n",
    "partial_clean_train['Severity'] = orig_train['Severity']"
   ]
  },
  {
   "cell_type": "code",
   "execution_count": 8,
   "metadata": {},
   "outputs": [],
   "source": [
    "partial_clean_test['Timestamp'] = pd.to_datetime(partial_clean_test['weather.ymd'])\n",
    "partial_clean_test['Amenity'] = orig_test['Amenity']\n",
    "partial_clean_test['Bump'] = orig_test['Bump']\n",
    "partial_clean_test['Crossing'] = orig_test['Crossing']\n",
    "partial_clean_test['Give_Way'] = orig_test['Give_Way']\n",
    "partial_clean_test['Junction'] = orig_test['Junction']\n",
    "partial_clean_test['No_Exit'] = orig_test['No_Exit']\n",
    "partial_clean_test['Railway'] = orig_test['Railway']\n",
    "partial_clean_test['Roundabout'] = orig_test['Roundabout']\n",
    "partial_clean_test['Station'] = orig_test['Station']\n",
    "partial_clean_test['Stop'] = orig_test['Stop']\n",
    "partial_clean_test['Traffic_Calming'] = orig_test['Traffic_Calming']\n",
    "partial_clean_test['Traffic_Signal'] = orig_test['Traffic_Signal']\n",
    "partial_clean_test['Turning_Loop'] = orig_test['Turning_Loop']\n",
    "partial_clean_test['Sunrise_Sunset'] = orig_test['Sunrise_Sunset']\n",
    "partial_clean_test['Source'] = orig_test['Source']"
   ]
  },
  {
   "cell_type": "code",
   "execution_count": null,
   "metadata": {
    "scrolled": true
   },
   "outputs": [],
   "source": [
    "final_train = partial_clean_train.drop(columns=['Unnamed: 0', 'X','weather.ymd',\n",
    "                                                        'weather.md',\n",
    "                                                'weather.mon']).dropna()\n",
    "def map_severity(severity):\n",
    "    if severity == 1 or severity == 2:\n",
    "        return 0\n",
    "    elif severity == 3 or severity == 4:\n",
    "        return 1\n",
    "    \n",
    "mapper = np.vectorize(map_severity)\n",
    "\n",
    "final_train['Severity'] = mapper(final_train['Severity'].values)\n",
    "final_train.head()"
   ]
  },
  {
   "cell_type": "code",
   "execution_count": 9,
   "metadata": {
    "scrolled": true
   },
   "outputs": [
    {
     "data": {
      "text/plain": [
       "temp.imp.zip          0.0\n",
       "humid.imp.zip         0.0\n",
       "pressure.imp.zip      0.0\n",
       "visibility.imp.zip    0.0\n",
       "wind.d.imp.zip        0.0\n",
       "wind.speed.imp.zip    0.0\n",
       "light                 0.0\n",
       "heavy                 0.0\n",
       "rain                  0.0\n",
       "snow                  0.0\n",
       "storm                 0.0\n",
       "windy                 0.0\n",
       "haze                  0.0\n",
       "Start_Time            0.0\n",
       "End_Time              0.0\n",
       "Duration              0.0\n",
       "Start_Lat             0.0\n",
       "Start_Lng             0.0\n",
       "Distance.mi           0.0\n",
       "Description           0.0\n",
       "Side                  0.0\n",
       "City                  0.0\n",
       "County                0.0\n",
       "State                 0.0\n",
       "Zipcode               0.0\n",
       "Country               0.0\n",
       "Timezone              0.0\n",
       "Airport_Code          0.0\n",
       "Weather_Timestamp     0.0\n",
       "Timestamp             0.0\n",
       "Amenity               0.0\n",
       "Bump                  0.0\n",
       "Crossing              0.0\n",
       "Give_Way              0.0\n",
       "Junction              0.0\n",
       "No_Exit               0.0\n",
       "Railway               0.0\n",
       "Roundabout            0.0\n",
       "Station               0.0\n",
       "Stop                  0.0\n",
       "Traffic_Calming       0.0\n",
       "Traffic_Signal        0.0\n",
       "Turning_Loop          0.0\n",
       "Sunrise_Sunset        0.0\n",
       "Source                0.0\n",
       "dtype: float64"
      ]
     },
     "execution_count": 9,
     "metadata": {},
     "output_type": "execute_result"
    }
   ],
   "source": [
    "final_test = partial_clean_test.drop(columns=['Unnamed: 0', 'X', 'ID', 'weather.ymd',\n",
    "                                              'weathertime', 'weather.md', 'weather.mon',\n",
    "                                             'weather.hr'])\n",
    "final_test = final_test.replace(np.nan, '', regex=True)\n",
    "final_test.isnull().mean() * 100"
   ]
  },
  {
   "cell_type": "code",
   "execution_count": null,
   "metadata": {},
   "outputs": [],
   "source": [
    "from sklearn.model_selection import train_test_split\n",
    "\n",
    "train_complete, val_complete = train_test_split(final_train,\n",
    "                                                test_size=0.2, random_state=1)"
   ]
  },
  {
   "cell_type": "code",
   "execution_count": null,
   "metadata": {},
   "outputs": [],
   "source": [
    "train_complete.shape"
   ]
  },
  {
   "cell_type": "code",
   "execution_count": null,
   "metadata": {},
   "outputs": [],
   "source": [
    "val_complete.shape"
   ]
  },
  {
   "cell_type": "code",
   "execution_count": null,
   "metadata": {},
   "outputs": [],
   "source": [
    "val_complete.head()"
   ]
  },
  {
   "cell_type": "code",
   "execution_count": null,
   "metadata": {},
   "outputs": [],
   "source": [
    "train_complete.to_csv('train_set.csv', index=False)\n",
    "val_complete.to_csv('val_set.csv', index=False)"
   ]
  },
  {
   "cell_type": "code",
   "execution_count": 10,
   "metadata": {},
   "outputs": [],
   "source": [
    "final_test.to_csv('test_set.csv', index=False)"
   ]
  },
  {
   "cell_type": "code",
   "execution_count": null,
   "metadata": {},
   "outputs": [],
   "source": []
  }
 ],
 "metadata": {
  "kernelspec": {
   "display_name": "Python 3",
   "language": "python",
   "name": "python3"
  },
  "language_info": {
   "codemirror_mode": {
    "name": "ipython",
    "version": 3
   },
   "file_extension": ".py",
   "mimetype": "text/x-python",
   "name": "python",
   "nbconvert_exporter": "python",
   "pygments_lexer": "ipython3",
   "version": "3.8.5"
  }
 },
 "nbformat": 4,
 "nbformat_minor": 4
}
