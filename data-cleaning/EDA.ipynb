{
 "cells": [
  {
   "cell_type": "code",
   "execution_count": 1,
   "metadata": {},
   "outputs": [],
   "source": [
    "import pandas as pd\n",
    "import numpy as np\n",
    "import matplotlib.pyplot as plt\n",
    "\n",
    "%matplotlib inline"
   ]
  },
  {
   "cell_type": "code",
   "execution_count": 2,
   "metadata": {},
   "outputs": [],
   "source": [
    "train = pd.read_csv('train.csv')"
   ]
  },
  {
   "cell_type": "code",
   "execution_count": 3,
   "metadata": {},
   "outputs": [
    {
     "data": {
      "text/html": [
       "<div>\n",
       "<style scoped>\n",
       "    .dataframe tbody tr th:only-of-type {\n",
       "        vertical-align: middle;\n",
       "    }\n",
       "\n",
       "    .dataframe tbody tr th {\n",
       "        vertical-align: top;\n",
       "    }\n",
       "\n",
       "    .dataframe thead th {\n",
       "        text-align: right;\n",
       "    }\n",
       "</style>\n",
       "<table border=\"1\" class=\"dataframe\">\n",
       "  <thead>\n",
       "    <tr style=\"text-align: right;\">\n",
       "      <th></th>\n",
       "      <th>ID</th>\n",
       "      <th>Source</th>\n",
       "      <th>TMC</th>\n",
       "      <th>Severity</th>\n",
       "      <th>Start_Time</th>\n",
       "      <th>End_Time</th>\n",
       "      <th>Start_Lat</th>\n",
       "      <th>Start_Lng</th>\n",
       "      <th>End_Lat</th>\n",
       "      <th>End_Lng</th>\n",
       "      <th>...</th>\n",
       "      <th>Roundabout</th>\n",
       "      <th>Station</th>\n",
       "      <th>Stop</th>\n",
       "      <th>Traffic_Calming</th>\n",
       "      <th>Traffic_Signal</th>\n",
       "      <th>Turning_Loop</th>\n",
       "      <th>Sunrise_Sunset</th>\n",
       "      <th>Civil_Twilight</th>\n",
       "      <th>Nautical_Twilight</th>\n",
       "      <th>Astronomical_Twilight</th>\n",
       "    </tr>\n",
       "  </thead>\n",
       "  <tbody>\n",
       "    <tr>\n",
       "      <th>0</th>\n",
       "      <td>A-2017855</td>\n",
       "      <td>MapQuest</td>\n",
       "      <td>201.0</td>\n",
       "      <td>2</td>\n",
       "      <td>2018-07-19 20:30:23</td>\n",
       "      <td>2018-07-19 21:14:11</td>\n",
       "      <td>34.153896</td>\n",
       "      <td>-118.275482</td>\n",
       "      <td>NaN</td>\n",
       "      <td>NaN</td>\n",
       "      <td>...</td>\n",
       "      <td>False</td>\n",
       "      <td>False</td>\n",
       "      <td>False</td>\n",
       "      <td>False</td>\n",
       "      <td>False</td>\n",
       "      <td>False</td>\n",
       "      <td>Night</td>\n",
       "      <td>Day</td>\n",
       "      <td>Day</td>\n",
       "      <td>Day</td>\n",
       "    </tr>\n",
       "    <tr>\n",
       "      <th>1</th>\n",
       "      <td>A-3340193</td>\n",
       "      <td>Bing</td>\n",
       "      <td>NaN</td>\n",
       "      <td>2</td>\n",
       "      <td>2020-12-27 13:22:48</td>\n",
       "      <td>2020-12-27 15:02:42</td>\n",
       "      <td>40.261747</td>\n",
       "      <td>-75.250020</td>\n",
       "      <td>40.263001</td>\n",
       "      <td>-75.251072</td>\n",
       "      <td>...</td>\n",
       "      <td>False</td>\n",
       "      <td>False</td>\n",
       "      <td>False</td>\n",
       "      <td>False</td>\n",
       "      <td>False</td>\n",
       "      <td>False</td>\n",
       "      <td>Day</td>\n",
       "      <td>Day</td>\n",
       "      <td>Day</td>\n",
       "      <td>Day</td>\n",
       "    </tr>\n",
       "    <tr>\n",
       "      <th>2</th>\n",
       "      <td>A-3274372</td>\n",
       "      <td>Bing</td>\n",
       "      <td>NaN</td>\n",
       "      <td>2</td>\n",
       "      <td>2020-12-19 20:27:52</td>\n",
       "      <td>2020-12-19 22:23:39</td>\n",
       "      <td>29.980875</td>\n",
       "      <td>-90.073829</td>\n",
       "      <td>29.981676</td>\n",
       "      <td>-90.073111</td>\n",
       "      <td>...</td>\n",
       "      <td>False</td>\n",
       "      <td>False</td>\n",
       "      <td>False</td>\n",
       "      <td>False</td>\n",
       "      <td>False</td>\n",
       "      <td>False</td>\n",
       "      <td>Night</td>\n",
       "      <td>Night</td>\n",
       "      <td>Night</td>\n",
       "      <td>Night</td>\n",
       "    </tr>\n",
       "    <tr>\n",
       "      <th>3</th>\n",
       "      <td>A-2782559</td>\n",
       "      <td>Bing</td>\n",
       "      <td>NaN</td>\n",
       "      <td>3</td>\n",
       "      <td>2016-09-27 17:29:27</td>\n",
       "      <td>2016-09-27 23:29:27</td>\n",
       "      <td>39.018870</td>\n",
       "      <td>-77.102890</td>\n",
       "      <td>39.019580</td>\n",
       "      <td>-77.107080</td>\n",
       "      <td>...</td>\n",
       "      <td>False</td>\n",
       "      <td>False</td>\n",
       "      <td>False</td>\n",
       "      <td>False</td>\n",
       "      <td>False</td>\n",
       "      <td>False</td>\n",
       "      <td>Day</td>\n",
       "      <td>Day</td>\n",
       "      <td>Day</td>\n",
       "      <td>Day</td>\n",
       "    </tr>\n",
       "    <tr>\n",
       "      <th>4</th>\n",
       "      <td>A-3722269</td>\n",
       "      <td>Bing</td>\n",
       "      <td>NaN</td>\n",
       "      <td>2</td>\n",
       "      <td>2020-02-11 19:22:00</td>\n",
       "      <td>2020-02-11 23:22:00</td>\n",
       "      <td>45.743940</td>\n",
       "      <td>-120.175670</td>\n",
       "      <td>45.743940</td>\n",
       "      <td>-120.175670</td>\n",
       "      <td>...</td>\n",
       "      <td>False</td>\n",
       "      <td>False</td>\n",
       "      <td>False</td>\n",
       "      <td>False</td>\n",
       "      <td>False</td>\n",
       "      <td>False</td>\n",
       "      <td>Night</td>\n",
       "      <td>Night</td>\n",
       "      <td>Night</td>\n",
       "      <td>Night</td>\n",
       "    </tr>\n",
       "  </tbody>\n",
       "</table>\n",
       "<p>5 rows × 49 columns</p>\n",
       "</div>"
      ],
      "text/plain": [
       "          ID    Source    TMC  Severity           Start_Time  \\\n",
       "0  A-2017855  MapQuest  201.0         2  2018-07-19 20:30:23   \n",
       "1  A-3340193      Bing    NaN         2  2020-12-27 13:22:48   \n",
       "2  A-3274372      Bing    NaN         2  2020-12-19 20:27:52   \n",
       "3  A-2782559      Bing    NaN         3  2016-09-27 17:29:27   \n",
       "4  A-3722269      Bing    NaN         2  2020-02-11 19:22:00   \n",
       "\n",
       "              End_Time  Start_Lat   Start_Lng    End_Lat     End_Lng  ...  \\\n",
       "0  2018-07-19 21:14:11  34.153896 -118.275482        NaN         NaN  ...   \n",
       "1  2020-12-27 15:02:42  40.261747  -75.250020  40.263001  -75.251072  ...   \n",
       "2  2020-12-19 22:23:39  29.980875  -90.073829  29.981676  -90.073111  ...   \n",
       "3  2016-09-27 23:29:27  39.018870  -77.102890  39.019580  -77.107080  ...   \n",
       "4  2020-02-11 23:22:00  45.743940 -120.175670  45.743940 -120.175670  ...   \n",
       "\n",
       "   Roundabout Station   Stop Traffic_Calming Traffic_Signal Turning_Loop  \\\n",
       "0       False   False  False           False          False        False   \n",
       "1       False   False  False           False          False        False   \n",
       "2       False   False  False           False          False        False   \n",
       "3       False   False  False           False          False        False   \n",
       "4       False   False  False           False          False        False   \n",
       "\n",
       "  Sunrise_Sunset Civil_Twilight Nautical_Twilight Astronomical_Twilight  \n",
       "0          Night            Day               Day                   Day  \n",
       "1            Day            Day               Day                   Day  \n",
       "2          Night          Night             Night                 Night  \n",
       "3            Day            Day               Day                   Day  \n",
       "4          Night          Night             Night                 Night  \n",
       "\n",
       "[5 rows x 49 columns]"
      ]
     },
     "execution_count": 3,
     "metadata": {},
     "output_type": "execute_result"
    }
   ],
   "source": [
    "train.head()"
   ]
  },
  {
   "cell_type": "code",
   "execution_count": 6,
   "metadata": {
    "scrolled": false
   },
   "outputs": [
    {
     "name": "stdout",
     "output_type": "stream",
     "text": [
      "<class 'pandas.core.frame.DataFrame'>\n",
      "RangeIndex: 2962779 entries, 0 to 2962778\n",
      "Data columns (total 49 columns):\n",
      " #   Column                 Dtype  \n",
      "---  ------                 -----  \n",
      " 0   ID                     object \n",
      " 1   Source                 object \n",
      " 2   TMC                    float64\n",
      " 3   Severity               int64  \n",
      " 4   Start_Time             object \n",
      " 5   End_Time               object \n",
      " 6   Start_Lat              float64\n",
      " 7   Start_Lng              float64\n",
      " 8   End_Lat                float64\n",
      " 9   End_Lng                float64\n",
      " 10  Distance.mi.           float64\n",
      " 11  Description            object \n",
      " 12  Number                 float64\n",
      " 13  Street                 object \n",
      " 14  Side                   object \n",
      " 15  City                   object \n",
      " 16  County                 object \n",
      " 17  State                  object \n",
      " 18  Zipcode                object \n",
      " 19  Country                object \n",
      " 20  Timezone               object \n",
      " 21  Airport_Code           object \n",
      " 22  Weather_Timestamp      object \n",
      " 23  Temperature.F.         float64\n",
      " 24  Wind_Chill.F.          float64\n",
      " 25  Humidity...            float64\n",
      " 26  Pressure.in.           float64\n",
      " 27  Visibility.mi.         float64\n",
      " 28  Wind_Direction         object \n",
      " 29  Wind_Speed.mph.        float64\n",
      " 30  Precipitation.in.      float64\n",
      " 31  Weather_Condition      object \n",
      " 32  Amenity                bool   \n",
      " 33  Bump                   bool   \n",
      " 34  Crossing               bool   \n",
      " 35  Give_Way               bool   \n",
      " 36  Junction               bool   \n",
      " 37  No_Exit                bool   \n",
      " 38  Railway                bool   \n",
      " 39  Roundabout             bool   \n",
      " 40  Station                bool   \n",
      " 41  Stop                   bool   \n",
      " 42  Traffic_Calming        bool   \n",
      " 43  Traffic_Signal         bool   \n",
      " 44  Turning_Loop           bool   \n",
      " 45  Sunrise_Sunset         object \n",
      " 46  Civil_Twilight         object \n",
      " 47  Nautical_Twilight      object \n",
      " 48  Astronomical_Twilight  object \n",
      "dtypes: bool(13), float64(14), int64(1), object(21)\n",
      "memory usage: 850.5+ MB\n"
     ]
    }
   ],
   "source": [
    "train.info()"
   ]
  },
  {
   "cell_type": "code",
   "execution_count": 7,
   "metadata": {
    "scrolled": false
   },
   "outputs": [
    {
     "data": {
      "text/html": [
       "<div>\n",
       "<style scoped>\n",
       "    .dataframe tbody tr th:only-of-type {\n",
       "        vertical-align: middle;\n",
       "    }\n",
       "\n",
       "    .dataframe tbody tr th {\n",
       "        vertical-align: top;\n",
       "    }\n",
       "\n",
       "    .dataframe thead th {\n",
       "        text-align: right;\n",
       "    }\n",
       "</style>\n",
       "<table border=\"1\" class=\"dataframe\">\n",
       "  <thead>\n",
       "    <tr style=\"text-align: right;\">\n",
       "      <th></th>\n",
       "      <th>TMC</th>\n",
       "      <th>Severity</th>\n",
       "      <th>Start_Lat</th>\n",
       "      <th>Start_Lng</th>\n",
       "      <th>End_Lat</th>\n",
       "      <th>End_Lng</th>\n",
       "      <th>Distance.mi.</th>\n",
       "      <th>Number</th>\n",
       "      <th>Temperature.F.</th>\n",
       "      <th>Wind_Chill.F.</th>\n",
       "      <th>Humidity...</th>\n",
       "      <th>Pressure.in.</th>\n",
       "      <th>Visibility.mi.</th>\n",
       "      <th>Wind_Speed.mph.</th>\n",
       "      <th>Precipitation.in.</th>\n",
       "    </tr>\n",
       "  </thead>\n",
       "  <tbody>\n",
       "    <tr>\n",
       "      <th>count</th>\n",
       "      <td>1.901648e+06</td>\n",
       "      <td>2.962779e+06</td>\n",
       "      <td>2.962779e+06</td>\n",
       "      <td>2.962779e+06</td>\n",
       "      <td>1.061131e+06</td>\n",
       "      <td>1.061131e+06</td>\n",
       "      <td>2.962779e+06</td>\n",
       "      <td>1.081417e+06</td>\n",
       "      <td>2.899590e+06</td>\n",
       "      <td>1.634781e+06</td>\n",
       "      <td>2.895631e+06</td>\n",
       "      <td>2.909032e+06</td>\n",
       "      <td>2.893495e+06</td>\n",
       "      <td>2.626594e+06</td>\n",
       "      <td>1.516143e+06</td>\n",
       "    </tr>\n",
       "    <tr>\n",
       "      <th>mean</th>\n",
       "      <td>2.083483e+02</td>\n",
       "      <td>2.305150e+00</td>\n",
       "      <td>3.639779e+01</td>\n",
       "      <td>-9.546653e+01</td>\n",
       "      <td>3.689859e+01</td>\n",
       "      <td>-9.859779e+01</td>\n",
       "      <td>3.364814e-01</td>\n",
       "      <td>6.131773e+03</td>\n",
       "      <td>6.148826e+01</td>\n",
       "      <td>5.490369e+01</td>\n",
       "      <td>6.566319e+01</td>\n",
       "      <td>2.969354e+01</td>\n",
       "      <td>9.112050e+00</td>\n",
       "      <td>7.903770e+00</td>\n",
       "      <td>1.237881e-02</td>\n",
       "    </tr>\n",
       "    <tr>\n",
       "      <th>std</th>\n",
       "      <td>2.123605e+01</td>\n",
       "      <td>5.334663e-01</td>\n",
       "      <td>4.964845e+00</td>\n",
       "      <td>1.735451e+01</td>\n",
       "      <td>5.166983e+00</td>\n",
       "      <td>1.849527e+01</td>\n",
       "      <td>1.616485e+00</td>\n",
       "      <td>1.249501e+04</td>\n",
       "      <td>1.852392e+01</td>\n",
       "      <td>2.272081e+01</td>\n",
       "      <td>2.273505e+01</td>\n",
       "      <td>8.645410e-01</td>\n",
       "      <td>2.818845e+00</td>\n",
       "      <td>5.339578e+00</td>\n",
       "      <td>1.637462e-01</td>\n",
       "    </tr>\n",
       "    <tr>\n",
       "      <th>min</th>\n",
       "      <td>2.000000e+02</td>\n",
       "      <td>1.000000e+00</td>\n",
       "      <td>2.455527e+01</td>\n",
       "      <td>-1.246238e+02</td>\n",
       "      <td>2.457018e+01</td>\n",
       "      <td>-1.244978e+02</td>\n",
       "      <td>0.000000e+00</td>\n",
       "      <td>1.000000e+00</td>\n",
       "      <td>-8.900000e+01</td>\n",
       "      <td>-8.900000e+01</td>\n",
       "      <td>1.000000e+00</td>\n",
       "      <td>0.000000e+00</td>\n",
       "      <td>0.000000e+00</td>\n",
       "      <td>0.000000e+00</td>\n",
       "      <td>0.000000e+00</td>\n",
       "    </tr>\n",
       "    <tr>\n",
       "      <th>25%</th>\n",
       "      <td>2.010000e+02</td>\n",
       "      <td>2.000000e+00</td>\n",
       "      <td>3.352025e+01</td>\n",
       "      <td>-1.173566e+02</td>\n",
       "      <td>3.385400e+01</td>\n",
       "      <td>-1.182073e+02</td>\n",
       "      <td>0.000000e+00</td>\n",
       "      <td>8.980000e+02</td>\n",
       "      <td>4.900000e+01</td>\n",
       "      <td>3.800000e+01</td>\n",
       "      <td>4.900000e+01</td>\n",
       "      <td>2.964000e+01</td>\n",
       "      <td>1.000000e+01</td>\n",
       "      <td>4.600000e+00</td>\n",
       "      <td>0.000000e+00</td>\n",
       "    </tr>\n",
       "    <tr>\n",
       "      <th>50%</th>\n",
       "      <td>2.010000e+02</td>\n",
       "      <td>2.000000e+00</td>\n",
       "      <td>3.582550e+01</td>\n",
       "      <td>-9.001895e+01</td>\n",
       "      <td>3.735016e+01</td>\n",
       "      <td>-9.439028e+01</td>\n",
       "      <td>0.000000e+00</td>\n",
       "      <td>2.893000e+03</td>\n",
       "      <td>6.300000e+01</td>\n",
       "      <td>5.800000e+01</td>\n",
       "      <td>6.800000e+01</td>\n",
       "      <td>2.993000e+01</td>\n",
       "      <td>1.000000e+01</td>\n",
       "      <td>7.000000e+00</td>\n",
       "      <td>0.000000e+00</td>\n",
       "    </tr>\n",
       "    <tr>\n",
       "      <th>75%</th>\n",
       "      <td>2.010000e+02</td>\n",
       "      <td>3.000000e+00</td>\n",
       "      <td>4.018439e+01</td>\n",
       "      <td>-8.084698e+01</td>\n",
       "      <td>4.072576e+01</td>\n",
       "      <td>-8.087304e+01</td>\n",
       "      <td>8.900000e-02</td>\n",
       "      <td>7.328000e+03</td>\n",
       "      <td>7.520000e+01</td>\n",
       "      <td>7.300000e+01</td>\n",
       "      <td>8.500000e+01</td>\n",
       "      <td>3.008000e+01</td>\n",
       "      <td>1.000000e+01</td>\n",
       "      <td>1.040000e+01</td>\n",
       "      <td>0.000000e+00</td>\n",
       "    </tr>\n",
       "    <tr>\n",
       "      <th>max</th>\n",
       "      <td>4.060000e+02</td>\n",
       "      <td>4.000000e+00</td>\n",
       "      <td>4.900220e+01</td>\n",
       "      <td>-6.711317e+01</td>\n",
       "      <td>4.907500e+01</td>\n",
       "      <td>-6.710924e+01</td>\n",
       "      <td>4.417500e+02</td>\n",
       "      <td>9.904150e+05</td>\n",
       "      <td>2.030000e+02</td>\n",
       "      <td>1.890000e+02</td>\n",
       "      <td>1.000000e+02</td>\n",
       "      <td>5.804000e+01</td>\n",
       "      <td>1.400000e+02</td>\n",
       "      <td>9.840000e+02</td>\n",
       "      <td>2.500000e+01</td>\n",
       "    </tr>\n",
       "  </tbody>\n",
       "</table>\n",
       "</div>"
      ],
      "text/plain": [
       "                TMC      Severity     Start_Lat     Start_Lng       End_Lat  \\\n",
       "count  1.901648e+06  2.962779e+06  2.962779e+06  2.962779e+06  1.061131e+06   \n",
       "mean   2.083483e+02  2.305150e+00  3.639779e+01 -9.546653e+01  3.689859e+01   \n",
       "std    2.123605e+01  5.334663e-01  4.964845e+00  1.735451e+01  5.166983e+00   \n",
       "min    2.000000e+02  1.000000e+00  2.455527e+01 -1.246238e+02  2.457018e+01   \n",
       "25%    2.010000e+02  2.000000e+00  3.352025e+01 -1.173566e+02  3.385400e+01   \n",
       "50%    2.010000e+02  2.000000e+00  3.582550e+01 -9.001895e+01  3.735016e+01   \n",
       "75%    2.010000e+02  3.000000e+00  4.018439e+01 -8.084698e+01  4.072576e+01   \n",
       "max    4.060000e+02  4.000000e+00  4.900220e+01 -6.711317e+01  4.907500e+01   \n",
       "\n",
       "            End_Lng  Distance.mi.        Number  Temperature.F.  \\\n",
       "count  1.061131e+06  2.962779e+06  1.081417e+06    2.899590e+06   \n",
       "mean  -9.859779e+01  3.364814e-01  6.131773e+03    6.148826e+01   \n",
       "std    1.849527e+01  1.616485e+00  1.249501e+04    1.852392e+01   \n",
       "min   -1.244978e+02  0.000000e+00  1.000000e+00   -8.900000e+01   \n",
       "25%   -1.182073e+02  0.000000e+00  8.980000e+02    4.900000e+01   \n",
       "50%   -9.439028e+01  0.000000e+00  2.893000e+03    6.300000e+01   \n",
       "75%   -8.087304e+01  8.900000e-02  7.328000e+03    7.520000e+01   \n",
       "max   -6.710924e+01  4.417500e+02  9.904150e+05    2.030000e+02   \n",
       "\n",
       "       Wind_Chill.F.   Humidity...  Pressure.in.  Visibility.mi.  \\\n",
       "count   1.634781e+06  2.895631e+06  2.909032e+06    2.893495e+06   \n",
       "mean    5.490369e+01  6.566319e+01  2.969354e+01    9.112050e+00   \n",
       "std     2.272081e+01  2.273505e+01  8.645410e-01    2.818845e+00   \n",
       "min    -8.900000e+01  1.000000e+00  0.000000e+00    0.000000e+00   \n",
       "25%     3.800000e+01  4.900000e+01  2.964000e+01    1.000000e+01   \n",
       "50%     5.800000e+01  6.800000e+01  2.993000e+01    1.000000e+01   \n",
       "75%     7.300000e+01  8.500000e+01  3.008000e+01    1.000000e+01   \n",
       "max     1.890000e+02  1.000000e+02  5.804000e+01    1.400000e+02   \n",
       "\n",
       "       Wind_Speed.mph.  Precipitation.in.  \n",
       "count     2.626594e+06       1.516143e+06  \n",
       "mean      7.903770e+00       1.237881e-02  \n",
       "std       5.339578e+00       1.637462e-01  \n",
       "min       0.000000e+00       0.000000e+00  \n",
       "25%       4.600000e+00       0.000000e+00  \n",
       "50%       7.000000e+00       0.000000e+00  \n",
       "75%       1.040000e+01       0.000000e+00  \n",
       "max       9.840000e+02       2.500000e+01  "
      ]
     },
     "execution_count": 7,
     "metadata": {},
     "output_type": "execute_result"
    }
   ],
   "source": [
    "train.describe()"
   ]
  },
  {
   "cell_type": "code",
   "execution_count": 8,
   "metadata": {},
   "outputs": [],
   "source": [
    "count_1 = len(train[train['Severity'] == 1])\n",
    "count_2 = len(train[train['Severity'] == 2])\n",
    "count_3 = len(train[train['Severity'] == 3])\n",
    "count_4 = len(train[train['Severity'] == 4])"
   ]
  },
  {
   "cell_type": "code",
   "execution_count": 9,
   "metadata": {},
   "outputs": [
    {
     "data": {
      "text/plain": [
       "(20465, 2104772, 750528, 87014)"
      ]
     },
     "execution_count": 9,
     "metadata": {},
     "output_type": "execute_result"
    }
   ],
   "source": [
    "count_1, count_2, count_3, count_4"
   ]
  },
  {
   "cell_type": "code",
   "execution_count": 10,
   "metadata": {},
   "outputs": [
    {
     "data": {
      "text/plain": [
       "2962779"
      ]
     },
     "execution_count": 10,
     "metadata": {},
     "output_type": "execute_result"
    }
   ],
   "source": [
    "len(train)"
   ]
  },
  {
   "cell_type": "code",
   "execution_count": 11,
   "metadata": {},
   "outputs": [
    {
     "data": {
      "text/plain": [
       "0"
      ]
     },
     "execution_count": 11,
     "metadata": {},
     "output_type": "execute_result"
    }
   ],
   "source": [
    "len(train.dropna())"
   ]
  },
  {
   "cell_type": "code",
   "execution_count": 12,
   "metadata": {},
   "outputs": [
    {
     "data": {
      "text/plain": [
       "2962779"
      ]
     },
     "execution_count": 12,
     "metadata": {},
     "output_type": "execute_result"
    }
   ],
   "source": [
    "len(train['Severity'].dropna())"
   ]
  },
  {
   "cell_type": "code",
   "execution_count": 13,
   "metadata": {},
   "outputs": [
    {
     "data": {
      "text/plain": [
       "0          False\n",
       "1          False\n",
       "2          False\n",
       "3          False\n",
       "4          False\n",
       "           ...  \n",
       "2962774    False\n",
       "2962775    False\n",
       "2962776    False\n",
       "2962777    False\n",
       "2962778    False\n",
       "Name: Amenity, Length: 2962779, dtype: bool"
      ]
     },
     "execution_count": 13,
     "metadata": {},
     "output_type": "execute_result"
    }
   ],
   "source": [
    "train['Amenity']"
   ]
  },
  {
   "cell_type": "code",
   "execution_count": 15,
   "metadata": {
    "scrolled": false
   },
   "outputs": [
    {
     "data": {
      "text/plain": [
       "ID                        0.000000\n",
       "Source                    0.000000\n",
       "TMC                      35.815395\n",
       "Severity                  0.000000\n",
       "Start_Time                0.000000\n",
       "End_Time                  0.000000\n",
       "Start_Lat                 0.000000\n",
       "Start_Lng                 0.000000\n",
       "End_Lat                  64.184605\n",
       "End_Lng                  64.184605\n",
       "Distance.mi.              0.000000\n",
       "Description               0.000034\n",
       "Number                   63.499910\n",
       "Street                    0.000000\n",
       "Side                      0.000000\n",
       "City                      0.003409\n",
       "County                    0.000000\n",
       "State                     0.000000\n",
       "Zipcode                   0.031491\n",
       "Country                   0.000000\n",
       "Timezone                  0.110943\n",
       "Airport_Code              0.215237\n",
       "Weather_Timestamp         1.488906\n",
       "Temperature.F.            2.132761\n",
       "Wind_Chill.F.            44.822715\n",
       "Humidity...               2.266386\n",
       "Pressure.in.              1.814074\n",
       "Visibility.mi.            2.338480\n",
       "Wind_Direction            1.987222\n",
       "Wind_Speed.mph.          11.346948\n",
       "Precipitation.in.        48.826997\n",
       "Weather_Condition         2.333822\n",
       "Amenity                   0.000000\n",
       "Bump                      0.000000\n",
       "Crossing                  0.000000\n",
       "Give_Way                  0.000000\n",
       "Junction                  0.000000\n",
       "No_Exit                   0.000000\n",
       "Railway                   0.000000\n",
       "Roundabout                0.000000\n",
       "Station                   0.000000\n",
       "Stop                      0.000000\n",
       "Traffic_Calming           0.000000\n",
       "Traffic_Signal            0.000000\n",
       "Turning_Loop              0.000000\n",
       "Sunrise_Sunset            0.003510\n",
       "Civil_Twilight            0.003510\n",
       "Nautical_Twilight         0.003510\n",
       "Astronomical_Twilight     0.003510\n",
       "dtype: float64"
      ]
     },
     "execution_count": 15,
     "metadata": {},
     "output_type": "execute_result"
    }
   ],
   "source": [
    "(train.isnull().sum()/len(train)) * 100"
   ]
  },
  {
   "cell_type": "code",
   "execution_count": 16,
   "metadata": {},
   "outputs": [
    {
     "data": {
      "text/plain": [
       "0          2018-07-19 20:53:00\n",
       "1          2020-12-27 13:15:00\n",
       "2          2020-12-19 20:34:00\n",
       "3          2016-09-27 17:35:00\n",
       "4          2020-02-11 18:53:00\n",
       "                  ...         \n",
       "2962774    2018-05-22 14:29:00\n",
       "2962775    2019-10-07 08:24:00\n",
       "2962776    2019-11-13 07:55:00\n",
       "2962777    2019-11-13 09:01:00\n",
       "2962778    2019-01-04 08:18:00\n",
       "Name: Weather_Timestamp, Length: 2962779, dtype: object"
      ]
     },
     "execution_count": 16,
     "metadata": {},
     "output_type": "execute_result"
    }
   ],
   "source": [
    "train['Weather_Timestamp']"
   ]
  },
  {
   "cell_type": "code",
   "execution_count": 17,
   "metadata": {},
   "outputs": [
    {
     "data": {
      "text/plain": [
       "0          2018-07-19 20:30:23\n",
       "1          2020-12-27 13:22:48\n",
       "2          2020-12-19 20:27:52\n",
       "3          2016-09-27 17:29:27\n",
       "4          2020-02-11 19:22:00\n",
       "                  ...         \n",
       "2962774    2018-05-22 14:32:36\n",
       "2962775    2019-10-07 08:26:01\n",
       "2962776    2019-11-13 07:57:00\n",
       "2962777    2019-11-13 08:58:22\n",
       "2962778    2019-01-04 08:24:15\n",
       "Name: Start_Time, Length: 2962779, dtype: object"
      ]
     },
     "execution_count": 17,
     "metadata": {},
     "output_type": "execute_result"
    }
   ],
   "source": [
    "train['Start_Time']"
   ]
  },
  {
   "cell_type": "code",
   "execution_count": 19,
   "metadata": {},
   "outputs": [
    {
     "data": {
      "text/plain": [
       "Timedelta('1061 days 02:53:22')"
      ]
     },
     "execution_count": 19,
     "metadata": {},
     "output_type": "execute_result"
    }
   ],
   "source": [
    "duration =  pd.to_datetime(train['End_Time']) - pd.to_datetime(train['Start_Time'])\n",
    "duration"
   ]
  },
  {
   "cell_type": "code",
   "execution_count": 44,
   "metadata": {},
   "outputs": [
    {
     "data": {
      "text/plain": [
       "0          0.730000\n",
       "1          1.665000\n",
       "2          1.929722\n",
       "3          6.000000\n",
       "4          4.000000\n",
       "             ...   \n",
       "2962774    0.492500\n",
       "2962775    0.748056\n",
       "2962776    0.550556\n",
       "2962777    0.484722\n",
       "2962778    0.490556\n",
       "Length: 2962779, dtype: float64"
      ]
     },
     "execution_count": 44,
     "metadata": {},
     "output_type": "execute_result"
    }
   ],
   "source": [
    "duration.dt.total_seconds() / (60 * 60)"
   ]
  },
  {
   "cell_type": "code",
   "execution_count": 48,
   "metadata": {},
   "outputs": [],
   "source": [
    "X = pd.DataFrame()\n",
    "X['duration'] = duration.dt.total_seconds() / (60 * 60)\n",
    "X['severity'] = train['Severity']"
   ]
  },
  {
   "cell_type": "code",
   "execution_count": 49,
   "metadata": {},
   "outputs": [
    {
     "data": {
      "text/html": [
       "<div>\n",
       "<style scoped>\n",
       "    .dataframe tbody tr th:only-of-type {\n",
       "        vertical-align: middle;\n",
       "    }\n",
       "\n",
       "    .dataframe tbody tr th {\n",
       "        vertical-align: top;\n",
       "    }\n",
       "\n",
       "    .dataframe thead th {\n",
       "        text-align: right;\n",
       "    }\n",
       "</style>\n",
       "<table border=\"1\" class=\"dataframe\">\n",
       "  <thead>\n",
       "    <tr style=\"text-align: right;\">\n",
       "      <th></th>\n",
       "      <th>duration</th>\n",
       "      <th>severity</th>\n",
       "    </tr>\n",
       "  </thead>\n",
       "  <tbody>\n",
       "    <tr>\n",
       "      <th>0</th>\n",
       "      <td>0.730000</td>\n",
       "      <td>2</td>\n",
       "    </tr>\n",
       "    <tr>\n",
       "      <th>1</th>\n",
       "      <td>1.665000</td>\n",
       "      <td>2</td>\n",
       "    </tr>\n",
       "    <tr>\n",
       "      <th>2</th>\n",
       "      <td>1.929722</td>\n",
       "      <td>2</td>\n",
       "    </tr>\n",
       "    <tr>\n",
       "      <th>3</th>\n",
       "      <td>6.000000</td>\n",
       "      <td>3</td>\n",
       "    </tr>\n",
       "    <tr>\n",
       "      <th>4</th>\n",
       "      <td>4.000000</td>\n",
       "      <td>2</td>\n",
       "    </tr>\n",
       "    <tr>\n",
       "      <th>...</th>\n",
       "      <td>...</td>\n",
       "      <td>...</td>\n",
       "    </tr>\n",
       "    <tr>\n",
       "      <th>2962774</th>\n",
       "      <td>0.492500</td>\n",
       "      <td>3</td>\n",
       "    </tr>\n",
       "    <tr>\n",
       "      <th>2962775</th>\n",
       "      <td>0.748056</td>\n",
       "      <td>2</td>\n",
       "    </tr>\n",
       "    <tr>\n",
       "      <th>2962776</th>\n",
       "      <td>0.550556</td>\n",
       "      <td>2</td>\n",
       "    </tr>\n",
       "    <tr>\n",
       "      <th>2962777</th>\n",
       "      <td>0.484722</td>\n",
       "      <td>2</td>\n",
       "    </tr>\n",
       "    <tr>\n",
       "      <th>2962778</th>\n",
       "      <td>0.490556</td>\n",
       "      <td>3</td>\n",
       "    </tr>\n",
       "  </tbody>\n",
       "</table>\n",
       "<p>2962779 rows × 2 columns</p>\n",
       "</div>"
      ],
      "text/plain": [
       "         duration  severity\n",
       "0        0.730000         2\n",
       "1        1.665000         2\n",
       "2        1.929722         2\n",
       "3        6.000000         3\n",
       "4        4.000000         2\n",
       "...           ...       ...\n",
       "2962774  0.492500         3\n",
       "2962775  0.748056         2\n",
       "2962776  0.550556         2\n",
       "2962777  0.484722         2\n",
       "2962778  0.490556         3\n",
       "\n",
       "[2962779 rows x 2 columns]"
      ]
     },
     "execution_count": 49,
     "metadata": {},
     "output_type": "execute_result"
    }
   ],
   "source": [
    "X"
   ]
  },
  {
   "cell_type": "code",
   "execution_count": 50,
   "metadata": {},
   "outputs": [
    {
     "data": {
      "text/html": [
       "<div>\n",
       "<style scoped>\n",
       "    .dataframe tbody tr th:only-of-type {\n",
       "        vertical-align: middle;\n",
       "    }\n",
       "\n",
       "    .dataframe tbody tr th {\n",
       "        vertical-align: top;\n",
       "    }\n",
       "\n",
       "    .dataframe thead th {\n",
       "        text-align: right;\n",
       "    }\n",
       "</style>\n",
       "<table border=\"1\" class=\"dataframe\">\n",
       "  <thead>\n",
       "    <tr style=\"text-align: right;\">\n",
       "      <th></th>\n",
       "      <th>duration</th>\n",
       "    </tr>\n",
       "    <tr>\n",
       "      <th>severity</th>\n",
       "      <th></th>\n",
       "    </tr>\n",
       "  </thead>\n",
       "  <tbody>\n",
       "    <tr>\n",
       "      <th>1</th>\n",
       "      <td>0.669786</td>\n",
       "    </tr>\n",
       "    <tr>\n",
       "      <th>2</th>\n",
       "      <td>2.177112</td>\n",
       "    </tr>\n",
       "    <tr>\n",
       "      <th>3</th>\n",
       "      <td>1.279415</td>\n",
       "    </tr>\n",
       "    <tr>\n",
       "      <th>4</th>\n",
       "      <td>12.612723</td>\n",
       "    </tr>\n",
       "  </tbody>\n",
       "</table>\n",
       "</div>"
      ],
      "text/plain": [
       "           duration\n",
       "severity           \n",
       "1          0.669786\n",
       "2          2.177112\n",
       "3          1.279415\n",
       "4         12.612723"
      ]
     },
     "execution_count": 50,
     "metadata": {},
     "output_type": "execute_result"
    }
   ],
   "source": [
    "X.groupby('severity').mean()"
   ]
  },
  {
   "cell_type": "code",
   "execution_count": 30,
   "metadata": {},
   "outputs": [
    {
     "data": {
      "text/plain": [
       "0          0\n",
       "1          0\n",
       "2          0\n",
       "3          1\n",
       "4          0\n",
       "          ..\n",
       "2962774    1\n",
       "2962775    0\n",
       "2962776    0\n",
       "2962777    0\n",
       "2962778    1\n",
       "Name: severity, Length: 2962779, dtype: int64"
      ]
     },
     "execution_count": 30,
     "metadata": {},
     "output_type": "execute_result"
    }
   ],
   "source": [
    "X['severity']"
   ]
  },
  {
   "cell_type": "code",
   "execution_count": 52,
   "metadata": {},
   "outputs": [
    {
     "data": {
      "text/html": [
       "<div>\n",
       "<style scoped>\n",
       "    .dataframe tbody tr th:only-of-type {\n",
       "        vertical-align: middle;\n",
       "    }\n",
       "\n",
       "    .dataframe tbody tr th {\n",
       "        vertical-align: top;\n",
       "    }\n",
       "\n",
       "    .dataframe thead th {\n",
       "        text-align: right;\n",
       "    }\n",
       "</style>\n",
       "<table border=\"1\" class=\"dataframe\">\n",
       "  <thead>\n",
       "    <tr style=\"text-align: right;\">\n",
       "      <th></th>\n",
       "      <th>duration</th>\n",
       "    </tr>\n",
       "    <tr>\n",
       "      <th>severity</th>\n",
       "      <th></th>\n",
       "    </tr>\n",
       "  </thead>\n",
       "  <tbody>\n",
       "    <tr>\n",
       "      <th>1</th>\n",
       "      <td>0.250000</td>\n",
       "    </tr>\n",
       "    <tr>\n",
       "      <th>2</th>\n",
       "      <td>0.497500</td>\n",
       "    </tr>\n",
       "    <tr>\n",
       "      <th>3</th>\n",
       "      <td>0.493611</td>\n",
       "    </tr>\n",
       "    <tr>\n",
       "      <th>4</th>\n",
       "      <td>0.493611</td>\n",
       "    </tr>\n",
       "  </tbody>\n",
       "</table>\n",
       "</div>"
      ],
      "text/plain": [
       "          duration\n",
       "severity          \n",
       "1         0.250000\n",
       "2         0.497500\n",
       "3         0.493611\n",
       "4         0.493611"
      ]
     },
     "execution_count": 52,
     "metadata": {},
     "output_type": "execute_result"
    }
   ],
   "source": [
    "X.groupby('severity').quantile(0.25)"
   ]
  },
  {
   "cell_type": "code",
   "execution_count": 54,
   "metadata": {},
   "outputs": [
    {
     "data": {
      "text/html": [
       "<div>\n",
       "<style scoped>\n",
       "    .dataframe tbody tr th:only-of-type {\n",
       "        vertical-align: middle;\n",
       "    }\n",
       "\n",
       "    .dataframe tbody tr th {\n",
       "        vertical-align: top;\n",
       "    }\n",
       "\n",
       "    .dataframe thead th {\n",
       "        text-align: right;\n",
       "    }\n",
       "</style>\n",
       "<table border=\"1\" class=\"dataframe\">\n",
       "  <thead>\n",
       "    <tr style=\"text-align: right;\">\n",
       "      <th></th>\n",
       "      <th>duration</th>\n",
       "    </tr>\n",
       "    <tr>\n",
       "      <th>severity</th>\n",
       "      <th></th>\n",
       "    </tr>\n",
       "  </thead>\n",
       "  <tbody>\n",
       "    <tr>\n",
       "      <th>1</th>\n",
       "      <td>0.582778</td>\n",
       "    </tr>\n",
       "    <tr>\n",
       "      <th>2</th>\n",
       "      <td>0.993333</td>\n",
       "    </tr>\n",
       "    <tr>\n",
       "      <th>3</th>\n",
       "      <td>0.736111</td>\n",
       "    </tr>\n",
       "    <tr>\n",
       "      <th>4</th>\n",
       "      <td>3.316389</td>\n",
       "    </tr>\n",
       "  </tbody>\n",
       "</table>\n",
       "</div>"
      ],
      "text/plain": [
       "          duration\n",
       "severity          \n",
       "1         0.582778\n",
       "2         0.993333\n",
       "3         0.736111\n",
       "4         3.316389"
      ]
     },
     "execution_count": 54,
     "metadata": {},
     "output_type": "execute_result"
    }
   ],
   "source": [
    "X.groupby('severity').quantile(0.5)"
   ]
  },
  {
   "cell_type": "code",
   "execution_count": 53,
   "metadata": {},
   "outputs": [
    {
     "data": {
      "text/html": [
       "<div>\n",
       "<style scoped>\n",
       "    .dataframe tbody tr th:only-of-type {\n",
       "        vertical-align: middle;\n",
       "    }\n",
       "\n",
       "    .dataframe tbody tr th {\n",
       "        vertical-align: top;\n",
       "    }\n",
       "\n",
       "    .dataframe thead th {\n",
       "        text-align: right;\n",
       "    }\n",
       "</style>\n",
       "<table border=\"1\" class=\"dataframe\">\n",
       "  <thead>\n",
       "    <tr style=\"text-align: right;\">\n",
       "      <th></th>\n",
       "      <th>duration</th>\n",
       "    </tr>\n",
       "    <tr>\n",
       "      <th>severity</th>\n",
       "      <th></th>\n",
       "    </tr>\n",
       "  </thead>\n",
       "  <tbody>\n",
       "    <tr>\n",
       "      <th>1</th>\n",
       "      <td>0.750000</td>\n",
       "    </tr>\n",
       "    <tr>\n",
       "      <th>2</th>\n",
       "      <td>1.930556</td>\n",
       "    </tr>\n",
       "    <tr>\n",
       "      <th>3</th>\n",
       "      <td>0.996667</td>\n",
       "    </tr>\n",
       "    <tr>\n",
       "      <th>4</th>\n",
       "      <td>6.000000</td>\n",
       "    </tr>\n",
       "  </tbody>\n",
       "</table>\n",
       "</div>"
      ],
      "text/plain": [
       "          duration\n",
       "severity          \n",
       "1         0.750000\n",
       "2         1.930556\n",
       "3         0.996667\n",
       "4         6.000000"
      ]
     },
     "execution_count": 53,
     "metadata": {},
     "output_type": "execute_result"
    }
   ],
   "source": [
    "X.groupby('severity').quantile(0.75)"
   ]
  },
  {
   "cell_type": "code",
   "execution_count": 63,
   "metadata": {},
   "outputs": [
    {
     "data": {
      "text/plain": [
       "<matplotlib.legend.Legend at 0x7f8dcf5ea490>"
      ]
     },
     "execution_count": 63,
     "metadata": {},
     "output_type": "execute_result"
    },
    {
     "data": {
      "image/png": "[encoded data removed]",
      "text/plain": [
       "<Figure size 720x432 with 1 Axes>"
      ]
     },
     "metadata": {
      "needs_background": "light"
     },
     "output_type": "display_data"
    }
   ],
   "source": [
    "plt.figure(figsize=(10, 6))\n",
    "# plt.hist(X[X['severity'] == 1]['duration'], label='1',\n",
    "#          bins=np.arange(0, 20, 0.5), density=True, alpha=0.6)\n",
    "plt.hist(X[X['severity'] == 2]['duration'], label='2',\n",
    "         bins=np.arange(0, 20, 0.5), density=True, alpha=0.6)\n",
    "plt.hist(X[X['severity'] == 3]['duration'], label='3',\n",
    "         bins=np.arange(0, 20, 0.5), density=True, alpha=0.6)\n",
    "# plt.hist(X[X['severity'] == 4]['duration'], label='4',\n",
    "#          bins=np.arange(0, 20, 0.5), density=True, alpha=0.6)\n",
    "plt.legend()"
   ]
  },
  {
   "cell_type": "code",
   "execution_count": null,
   "metadata": {},
   "outputs": [],
   "source": []
  }
 ],
 "metadata": {
  "kernelspec": {
   "display_name": "Python 3",
   "language": "python",
   "name": "python3"
  },
  "language_info": {
   "codemirror_mode": {
    "name": "ipython",
    "version": 3
   },
   "file_extension": ".py",
   "mimetype": "text/x-python",
   "name": "python",
   "nbconvert_exporter": "python",
   "pygments_lexer": "ipython3",
   "version": "3.8.5"
  }
 },
 "nbformat": 4,
 "nbformat_minor": 4
}
