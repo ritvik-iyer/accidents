{
 "cells": [
  {
   "cell_type": "code",
   "execution_count": 1,
   "metadata": {},
   "outputs": [],
   "source": [
    "import pandas as pd\n",
    "import numpy as np\n",
    "from sklearn.preprocessing import StandardScaler\n",
    "from sklearn.linear_model import LogisticRegression\n",
    "import time\n",
    "from sklearn.metrics import classification_report"
   ]
  },
  {
   "cell_type": "code",
   "execution_count": 2,
   "metadata": {},
   "outputs": [],
   "source": [
    "train = pd.read_csv('train_final.csv')\n",
    "validation = pd.read_csv('val_final.csv')"
   ]
  },
  {
   "cell_type": "markdown",
   "metadata": {},
   "source": [
    "#### Apply standard scaling to numerical columns"
   ]
  },
  {
   "cell_type": "code",
   "execution_count": 9,
   "metadata": {},
   "outputs": [],
   "source": [
    "# Standardize Training Set Features \n",
    "scaler_train = StandardScaler()\n",
    "numer_cols_train = scaler_train.fit_transform(train.loc[:, 'Temperature':'Distance'])\n",
    "cat_cols_train = train.loc[:, 'Blocked':'Severity'].values\n",
    "scaled_train = pd.DataFrame(np.hstack([numer_cols_train, cat_cols_train]))\n",
    "scaled_train.columns = train.columns\n",
    "X_train = scaled_train.loc[:, 'Temperature':'MapQuest-Bing'].values.astype(float)\n",
    "y_train = scaled_train.loc[:, 'Severity'].values.astype(int)\n",
    "\n",
    "# Standardize Validation Set Features \n",
    "scaler_val = StandardScaler()\n",
    "numer_cols_val = scaler_val.fit_transform(validation.loc[:, 'Temperature':'Distance'])\n",
    "cat_cols_val = validation.loc[:, 'Blocked':'Severity'].values\n",
    "scaled_validation = pd.DataFrame(np.hstack([numer_cols_val, cat_cols_val]))\n",
    "scaled_validation.columns = validation.columns\n",
    "X_val = scaled_validation.loc[:, 'Temperature':'MapQuest-Bing'].values.astype(float)\n",
    "y_val = scaled_validation.loc[:, 'Severity'].values.astype(int)"
   ]
  },
  {
   "cell_type": "markdown",
   "metadata": {},
   "source": [
    "#### Method 1: Baseline Logistic Regression (no penalty)"
   ]
  },
  {
   "cell_type": "code",
   "execution_count": 13,
   "metadata": {},
   "outputs": [
    {
     "name": "stdout",
     "output_type": "stream",
     "text": [
      "The Logistic Regression classifier took 1096.09 seconds to train.\n",
      "Metrics on the Training Set: \n",
      "\n",
      "              precision    recall  f1-score   support\n",
      "\n",
      "           0       0.79      0.91      0.85   1697093\n",
      "           1       0.63      0.40      0.49    667944\n",
      "\n",
      "    accuracy                           0.77   2365037\n",
      "   macro avg       0.71      0.66      0.67   2365037\n",
      "weighted avg       0.75      0.77      0.75   2365037\n",
      "\n",
      "Metrics on the Validation Set: \n",
      "\n",
      "              precision    recall  f1-score   support\n",
      "\n",
      "           0       0.79      0.91      0.85    423784\n",
      "           1       0.64      0.40      0.49    167476\n",
      "\n",
      "    accuracy                           0.77    591260\n",
      "   macro avg       0.71      0.66      0.67    591260\n",
      "weighted avg       0.75      0.77      0.75    591260\n",
      "\n"
     ]
    }
   ],
   "source": [
    "start = time.time()\n",
    "log_reg = LogisticRegression(random_state=0, solver='saga', C=10**6, max_iter=1000, tol=10**-3)\n",
    "log_reg.fit(X_train, y_train)\n",
    "end = time.time()\n",
    "y_train_pred = log_reg.predict(X_train)\n",
    "y_val_pred = log_reg.predict(X_val)\n",
    "print(f'The Logistic Regression classifier took {(end - start):.2f} seconds to train.')\n",
    "print('Metrics on the Training Set: \\n')\n",
    "print(classification_report(y_train, y_train_pred))\n",
    "print('Metrics on the Validation Set: \\n')\n",
    "print(classification_report(y_val, y_val_pred))"
   ]
  }
 ],
 "metadata": {
  "kernelspec": {
   "display_name": "Python 3.7.6 64-bit (conda)",
   "language": "python",
   "name": "python37664bitconda9b00fdfa46034e79ae988d45a7ac2968"
  },
  "language_info": {
   "codemirror_mode": {
    "name": "ipython",
    "version": 3
   },
   "file_extension": ".py",
   "mimetype": "text/x-python",
   "name": "python",
   "nbconvert_exporter": "python",
   "pygments_lexer": "ipython3",
   "version": "3.8.5"
  }
 },
 "nbformat": 4,
 "nbformat_minor": 4
}
