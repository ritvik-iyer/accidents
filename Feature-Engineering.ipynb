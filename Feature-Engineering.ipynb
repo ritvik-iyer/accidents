{
 "cells": [
  {
   "cell_type": "code",
   "execution_count": 1,
   "metadata": {},
   "outputs": [],
   "source": [
    "import pandas as pd\n",
    "import numpy as np"
   ]
  },
  {
   "cell_type": "code",
   "execution_count": 2,
   "metadata": {},
   "outputs": [],
   "source": [
    "train = pd.read_csv('train_set.csv')\n",
    "validation = pd.read_csv('val_set.csv')"
   ]
  },
  {
   "cell_type": "code",
   "execution_count": 3,
   "metadata": {},
   "outputs": [],
   "source": [
    "def feature_extractor(df):\n",
    "    df['Start_Time'] = pd.to_datetime(df['Start_Time'])\n",
    "    tf_mapper = lambda val: int(val)\n",
    "    block_mapper = lambda string: tf_mapper('block' in string)\n",
    "    # Feature engineering \n",
    "    temp = df['temp.imp.zip']\n",
    "    humidity = df['humid.imp.zip']\n",
    "    pressure = df['pressure.imp.zip']\n",
    "    visibility = df['visibility.imp.zip']\n",
    "    wind_speed = df['wind.speed.imp.zip']\n",
    "    duration = df['Duration']\n",
    "    distance = df['Distance.mi']\n",
    "    is_blocked = df['Description'].map(block_mapper)\n",
    "    light = df['light'].map(tf_mapper)\n",
    "    heavy = df['heavy'].map(tf_mapper)\n",
    "    rain = df['rain'].map(tf_mapper)\n",
    "    snow = df['snow'].map(tf_mapper)\n",
    "    storm = df['storm'].map(tf_mapper)\n",
    "    haze = df['haze'].map(tf_mapper)\n",
    "    is_weekday = df['Start_Time'].dt.weekday < 5\n",
    "    is_rush_hour = pd.to_datetime(df['Start_Time']).dt.hour.between(7, 9, inclusive=True) | pd.to_datetime(df['Start_Time']).dt.hour.between(16, 18, inclusive=True)\n",
    "    season = pd.get_dummies((df['Start_Time'].dt.month%12 + 3)//3, drop_first=True)\n",
    "    state = pd.get_dummies(df['State'], drop_first=True)\n",
    "    amenity = df['Amenity'].map(tf_mapper)\n",
    "    bump = df['Bump'].map(tf_mapper)\n",
    "    crossing = df['Crossing'].map(tf_mapper)\n",
    "    give_way = df['Give_Way'].map(tf_mapper)\n",
    "    junction = df['Junction'].map(tf_mapper)\n",
    "    no_exit = df['No_Exit'].map(tf_mapper)\n",
    "    railway = df['Railway'].map(tf_mapper)\n",
    "    roundabout = df['Roundabout'].map(tf_mapper)\n",
    "    station = df['Station'].map(tf_mapper)\n",
    "    stop = df['Stop'].map(tf_mapper)\n",
    "    traffic_calming = df['Traffic_Calming'].map(tf_mapper)\n",
    "    traffic_signal = df['Traffic_Signal'].map(tf_mapper)\n",
    "    turning_loop = df['Turning_Loop'].map(tf_mapper)\n",
    "    sunrise_sunset = pd.get_dummies(df['Sunrise_Sunset'], drop_first=True)\n",
    "    source = pd.get_dummies(df['Source'], drop_first=True)\n",
    "    severity = df['Severity']\n",
    "    inter_df = pd.DataFrame({'Temperature':temp,\n",
    "                           'Humidity':humidity,\n",
    "                           'Pressure':pressure,\n",
    "                           'Visibility':visibility,\n",
    "                           'Wind Speed':wind_speed,\n",
    "                           'Duration':duration,\n",
    "                           'Distance':distance,\n",
    "                           'Blocked':is_blocked,\n",
    "                           'Light':light,\n",
    "                           'Heavy':heavy,\n",
    "                           'Rain':rain,\n",
    "                           'Snow':snow,\n",
    "                           'Weekday':is_weekday,\n",
    "                           'Rush Hour':is_rush_hour,\n",
    "                           'Amenity':amenity,\n",
    "                           'Bump':bump,\n",
    "                           'Crossing':crossing,\n",
    "                           'Giveway':give_way,\n",
    "                           'Junction':junction,\n",
    "                           'No Exit':no_exit,\n",
    "                           'Railway':railway,\n",
    "                           'Roundabout':roundabout,\n",
    "                           'Station':station,\n",
    "                           'Stop':stop,\n",
    "                           'Traffic Calming':traffic_calming,\n",
    "                           'Traffic Signal':traffic_signal,\n",
    "                           'Turning Loop':turning_loop})\n",
    "    final_df = pd.concat([inter_df, season, state, sunrise_sunset, source], axis = 1)\n",
    "    final_df['Severity'] = severity\n",
    "    return final_df"
   ]
  },
  {
   "cell_type": "code",
   "execution_count": 4,
   "metadata": {},
   "outputs": [],
   "source": [
    "final_train = feature_extractor(train)\n",
    "final_val = feature_extractor(validation)"
   ]
  },
  {
   "cell_type": "code",
   "execution_count": 6,
   "metadata": {},
   "outputs": [],
   "source": [
    "final_train.to_csv('train_final.csv',index=False)\n",
    "final_val.to_csv('val_final.csv',index=False)"
   ]
  }
 ],
 "metadata": {
  "kernelspec": {
   "display_name": "Python 3.7.6 64-bit (conda)",
   "language": "python",
   "name": "python37664bitconda9b00fdfa46034e79ae988d45a7ac2968"
  },
  "language_info": {
   "codemirror_mode": {
    "name": "ipython",
    "version": 3
   },
   "file_extension": ".py",
   "mimetype": "text/x-python",
   "name": "python",
   "nbconvert_exporter": "python",
   "pygments_lexer": "ipython3",
   "version": "3.8.5"
  }
 },
 "nbformat": 4,
 "nbformat_minor": 4
}
